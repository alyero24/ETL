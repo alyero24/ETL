{
 "cells": [
  {
   "cell_type": "code",
   "execution_count": 1,
   "id": "c8c4c81a-f8d5-425e-b29e-a4082d3591b4",
   "metadata": {},
   "outputs": [
    {
     "data": {
      "text/plain": [
       "'\\nFetch Periodic Table Data and Load into Pandas DataFrame\\n\\nThis script pulls element properties from the ptable.com JSON API,\\ncleans the raw data, and presents it as a readable DataFrame.\\n\\nKey steps:\\n1. Fetch JSON data from the API\\n2. Filter out empty entries\\n3. Extract key element properties\\n4. Build and display a Pandas DataFrame\\n'"
      ]
     },
     "execution_count": 1,
     "metadata": {},
     "output_type": "execute_result"
    }
   ],
   "source": [
    "\"\"\"\n",
    "Fetch Periodic Table Data and Load into Pandas DataFrame\n",
    "\n",
    "This script pulls element properties from the ptable.com JSON API,\n",
    "cleans the raw data, and presents it as a readable DataFrame.\n",
    "\n",
    "Key steps:\n",
    "1. Fetch JSON data from the API\n",
    "2. Filter out empty entries\n",
    "3. Extract key element properties\n",
    "4. Build and display a Pandas DataFrame\n",
    "\"\"\""
   ]
  },
  {
   "cell_type": "code",
   "execution_count": 2,
   "id": "1c4d8aee-4dca-4be0-baa9-103976216c42",
   "metadata": {},
   "outputs": [],
   "source": [
    "import requests\n",
    "import pandas as pd\n",
    "from pandas_gbq import to_gbq\n",
    "\n",
    "# Show all DataFrame columns in Jupyter/console output\n",
    "pd.set_option('display.max_columns', None)"
   ]
  },
  {
   "cell_type": "code",
   "execution_count": 3,
   "id": "9a7c9adc-e2ee-403e-8959-f11532b9b5fc",
   "metadata": {},
   "outputs": [],
   "source": [
    "# Step 1: URL for periodic table JSON data\n",
    "url = \"https://ptable.com/JSON/properties-951c835.json\""
   ]
  },
  {
   "cell_type": "code",
   "execution_count": 4,
   "id": "9eca273b-faad-437c-a1eb-e1f788479f2b",
   "metadata": {},
   "outputs": [],
   "source": [
    "# Step 2: Fetch JSON data from the URL\n",
    "response = requests.get(url)\n",
    "data = response.json()"
   ]
  },
  {
   "cell_type": "code",
   "execution_count": 5,
   "id": "1331de0d-da5d-4369-ad5d-eb3e653bea3b",
   "metadata": {},
   "outputs": [],
   "source": [
    "# Step 3: Keep only valid element entries (skip empty lists)\n",
    "elements = [\n",
    "    element for element in data \n",
    "    if isinstance(element, dict) and 'symbol' in element\n",
    "]"
   ]
  },
  {
   "cell_type": "code",
   "execution_count": 6,
   "id": "aad0e1ef-e3a2-4c0a-b012-9cfe7d6223ce",
   "metadata": {},
   "outputs": [],
   "source": [
    "# Step 4: Extract selected properties for a clean table\n",
    "rows = []\n",
    "for element in elements:\n",
    "    rows.append({\n",
    "        'Atomic Number': element.get('atomic', ''),\n",
    "        'Symbol': element.get('symbol', ''),\n",
    "        'Atomic Weight': element.get('weight', ''),\n",
    "        'Electron Configuration': element.get('electronstring', ''),\n",
    "        'Series': element.get('series', ''),\n",
    "        'Melting Point (K)': element.get('melt', ''),\n",
    "        'Boiling Point (K)': element.get('boil', ''),\n",
    "        'Electronegativity': element.get('electroneg', ''),\n",
    "        'Valence': element.get('valence', ''),\n",
    "        'Discovery Year': element.get('discover', '')\n",
    "    })"
   ]
  },
  {
   "cell_type": "code",
   "execution_count": 7,
   "id": "d602b4b5-ad57-4c4f-9e20-f85afc41d2d0",
   "metadata": {},
   "outputs": [],
   "source": [
    "# Step 5: Build DataFrame\n",
    "df = pd.DataFrame(rows)"
   ]
  },
  {
   "cell_type": "code",
   "execution_count": 8,
   "id": "670d7601-1991-4e24-b99c-74294df1f95b",
   "metadata": {
    "scrolled": true
   },
   "outputs": [
    {
     "data": {
      "text/html": [
       "<div>\n",
       "<style scoped>\n",
       "    .dataframe tbody tr th:only-of-type {\n",
       "        vertical-align: middle;\n",
       "    }\n",
       "\n",
       "    .dataframe tbody tr th {\n",
       "        vertical-align: top;\n",
       "    }\n",
       "\n",
       "    .dataframe thead th {\n",
       "        text-align: right;\n",
       "    }\n",
       "</style>\n",
       "<table border=\"1\" class=\"dataframe\">\n",
       "  <thead>\n",
       "    <tr style=\"text-align: right;\">\n",
       "      <th></th>\n",
       "      <th>Atomic Number</th>\n",
       "      <th>Symbol</th>\n",
       "      <th>Atomic Weight</th>\n",
       "      <th>Electron Configuration</th>\n",
       "      <th>Series</th>\n",
       "      <th>Melting Point (K)</th>\n",
       "      <th>Boiling Point (K)</th>\n",
       "      <th>Electronegativity</th>\n",
       "      <th>Valence</th>\n",
       "      <th>Discovery Year</th>\n",
       "    </tr>\n",
       "  </thead>\n",
       "  <tbody>\n",
       "    <tr>\n",
       "      <th>0</th>\n",
       "      <td>1</td>\n",
       "      <td>H</td>\n",
       "      <td>1.008</td>\n",
       "      <td>1s1</td>\n",
       "      <td>Nonmetal</td>\n",
       "      <td>14.01</td>\n",
       "      <td>20.28</td>\n",
       "      <td>2.20</td>\n",
       "      <td>1</td>\n",
       "      <td>1766</td>\n",
       "    </tr>\n",
       "    <tr>\n",
       "      <th>1</th>\n",
       "      <td>2</td>\n",
       "      <td>He</td>\n",
       "      <td>4.002602</td>\n",
       "      <td>1s2</td>\n",
       "      <td>Noble</td>\n",
       "      <td></td>\n",
       "      <td>4.22</td>\n",
       "      <td></td>\n",
       "      <td>0</td>\n",
       "      <td>1895</td>\n",
       "    </tr>\n",
       "    <tr>\n",
       "      <th>2</th>\n",
       "      <td>3</td>\n",
       "      <td>Li</td>\n",
       "      <td>6.94</td>\n",
       "      <td>[He] 2s1</td>\n",
       "      <td>Alkali</td>\n",
       "      <td>453.69</td>\n",
       "      <td>1615.</td>\n",
       "      <td>0.98</td>\n",
       "      <td>1</td>\n",
       "      <td>1817</td>\n",
       "    </tr>\n",
       "    <tr>\n",
       "      <th>3</th>\n",
       "      <td>4</td>\n",
       "      <td>Be</td>\n",
       "      <td>9.0121831</td>\n",
       "      <td>[He] 2s2</td>\n",
       "      <td>Alkaline</td>\n",
       "      <td>1560.</td>\n",
       "      <td>2743.</td>\n",
       "      <td>1.57</td>\n",
       "      <td>2</td>\n",
       "      <td>1797</td>\n",
       "    </tr>\n",
       "    <tr>\n",
       "      <th>4</th>\n",
       "      <td>5</td>\n",
       "      <td>B</td>\n",
       "      <td>10.81</td>\n",
       "      <td>[He] 2s2 2p1</td>\n",
       "      <td>Metalloid</td>\n",
       "      <td>2348.</td>\n",
       "      <td>4273.</td>\n",
       "      <td>2.04</td>\n",
       "      <td>3</td>\n",
       "      <td>1808</td>\n",
       "    </tr>\n",
       "    <tr>\n",
       "      <th>5</th>\n",
       "      <td>6</td>\n",
       "      <td>C</td>\n",
       "      <td>12.011</td>\n",
       "      <td>[He] 2s2 2p2</td>\n",
       "      <td>Nonmetal</td>\n",
       "      <td>3915.</td>\n",
       "      <td>3915.</td>\n",
       "      <td>2.55</td>\n",
       "      <td>4</td>\n",
       "      <td>-3749</td>\n",
       "    </tr>\n",
       "    <tr>\n",
       "      <th>6</th>\n",
       "      <td>7</td>\n",
       "      <td>N</td>\n",
       "      <td>14.007</td>\n",
       "      <td>[He] 2s2 2p3</td>\n",
       "      <td>Nonmetal</td>\n",
       "      <td>63.05</td>\n",
       "      <td>77.36</td>\n",
       "      <td>3.04</td>\n",
       "      <td>5</td>\n",
       "      <td>1772</td>\n",
       "    </tr>\n",
       "    <tr>\n",
       "      <th>7</th>\n",
       "      <td>8</td>\n",
       "      <td>O</td>\n",
       "      <td>15.999</td>\n",
       "      <td>[He] 2s2 2p4</td>\n",
       "      <td>Nonmetal</td>\n",
       "      <td>54.8</td>\n",
       "      <td>90.2</td>\n",
       "      <td>3.44</td>\n",
       "      <td>2</td>\n",
       "      <td>1774</td>\n",
       "    </tr>\n",
       "    <tr>\n",
       "      <th>8</th>\n",
       "      <td>9</td>\n",
       "      <td>F</td>\n",
       "      <td>18.998403162</td>\n",
       "      <td>[He] 2s2 2p5</td>\n",
       "      <td>Nonmetal</td>\n",
       "      <td>53.5</td>\n",
       "      <td>85.03</td>\n",
       "      <td>3.98</td>\n",
       "      <td>1</td>\n",
       "      <td>1886</td>\n",
       "    </tr>\n",
       "    <tr>\n",
       "      <th>9</th>\n",
       "      <td>10</td>\n",
       "      <td>Ne</td>\n",
       "      <td>20.1797</td>\n",
       "      <td>[He] 2s2 2p6</td>\n",
       "      <td>Noble</td>\n",
       "      <td>24.56</td>\n",
       "      <td>27.07</td>\n",
       "      <td></td>\n",
       "      <td>0</td>\n",
       "      <td>1898</td>\n",
       "    </tr>\n",
       "  </tbody>\n",
       "</table>\n",
       "</div>"
      ],
      "text/plain": [
       "  Atomic Number Symbol Atomic Weight Electron Configuration     Series  \\\n",
       "0             1      H         1.008                    1s1   Nonmetal   \n",
       "1             2     He      4.002602                    1s2      Noble   \n",
       "2             3     Li          6.94               [He] 2s1     Alkali   \n",
       "3             4     Be     9.0121831               [He] 2s2   Alkaline   \n",
       "4             5      B         10.81           [He] 2s2 2p1  Metalloid   \n",
       "5             6      C        12.011           [He] 2s2 2p2   Nonmetal   \n",
       "6             7      N        14.007           [He] 2s2 2p3   Nonmetal   \n",
       "7             8      O        15.999           [He] 2s2 2p4   Nonmetal   \n",
       "8             9      F  18.998403162           [He] 2s2 2p5   Nonmetal   \n",
       "9            10     Ne       20.1797           [He] 2s2 2p6      Noble   \n",
       "\n",
       "  Melting Point (K) Boiling Point (K) Electronegativity Valence Discovery Year  \n",
       "0             14.01             20.28              2.20       1           1766  \n",
       "1                                4.22                         0           1895  \n",
       "2            453.69             1615.              0.98       1           1817  \n",
       "3             1560.             2743.              1.57       2           1797  \n",
       "4             2348.             4273.              2.04       3           1808  \n",
       "5             3915.             3915.              2.55       4          -3749  \n",
       "6             63.05             77.36              3.04       5           1772  \n",
       "7              54.8              90.2              3.44       2           1774  \n",
       "8              53.5             85.03              3.98       1           1886  \n",
       "9             24.56             27.07                         0           1898  "
      ]
     },
     "metadata": {},
     "output_type": "display_data"
    }
   ],
   "source": [
    "# Step 6: Display the first 20 rows\n",
    "display(df.head(10))"
   ]
  },
  {
   "cell_type": "code",
   "execution_count": 9,
   "id": "2d4cf75b-6150-4b5c-a0c6-ffaa68a8f4f7",
   "metadata": {},
   "outputs": [],
   "source": [
    "# Replace spaces and parentheses with underscores\n",
    "df.columns = (\n",
    "    df.columns\n",
    "    .str.strip()                # remove leading/trailing spaces\n",
    "    .str.replace(' ', '_', regex=False)\n",
    "    .str.replace('(', '', regex=False)\n",
    "    .str.replace(')', '', regex=False)\n",
    ")\n",
    "\n",
    "\n"
   ]
  },
  {
   "cell_type": "code",
   "execution_count": 10,
   "id": "317ef74b-717e-4a30-b017-1c80de161324",
   "metadata": {},
   "outputs": [
    {
     "name": "stderr",
     "output_type": "stream",
     "text": [
      "100%|██████████| 1/1 [00:00<?, ?it/s]"
     ]
    },
    {
     "name": "stdout",
     "output_type": "stream",
     "text": [
      "✅ Data loaded into BigQuery: mydataset.PeriodicTable\n"
     ]
    },
    {
     "name": "stderr",
     "output_type": "stream",
     "text": [
      "\n"
     ]
    }
   ],
   "source": [
    "# Point to the full path of your JSON key\n",
    "import os\n",
    "from pandas_gbq import to_gbq\n",
    "\n",
    "# Point to your JSON key\n",
    "os.environ[\"GOOGLE_APPLICATION_CREDENTIALS\"] = r\"C:\\Users\\ayero\\Downloads\\periodic-table-dataset-1877a07a279b.json\"\n",
    "\n",
    "# Upload DataFrame to BigQuery\n",
    "to_gbq(\n",
    "    df,\n",
    "    destination_table=\"data123.periodicdata\",  # dataset.table\n",
    "    project_id=\"periodic-table-dataset\",\n",
    "    if_exists=\"replace\"  \n",
    ")\n",
    "\n",
    "print(\"Data loaded into BigQuery: mydataset.PeriodicTable\")"
   ]
  },
  {
   "cell_type": "code",
   "execution_count": null,
   "id": "a3d48ed0-1737-4dd5-9d86-5a631b3a29c0",
   "metadata": {},
   "outputs": [],
   "source": []
  }
 ],
 "metadata": {
  "kernelspec": {
   "display_name": "Python [conda env:base] *",
   "language": "python",
   "name": "conda-base-py"
  },
  "language_info": {
   "codemirror_mode": {
    "name": "ipython",
    "version": 3
   },
   "file_extension": ".py",
   "mimetype": "text/x-python",
   "name": "python",
   "nbconvert_exporter": "python",
   "pygments_lexer": "ipython3",
   "version": "3.11.3"
  }
 },
 "nbformat": 4,
 "nbformat_minor": 5
}
